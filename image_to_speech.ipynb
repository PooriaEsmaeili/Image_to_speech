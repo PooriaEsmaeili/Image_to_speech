{
 "cells": [
  {
   "cell_type": "code",
   "execution_count": 35,
   "metadata": {},
   "outputs": [],
   "source": [
    "from dotenv import find_dotenv, load_dotenv\n",
    "import os\n",
    "from transformers import pipeline\n",
    "import requests\n",
    "import streamlit as st"
   ]
  },
  {
   "cell_type": "code",
   "execution_count": 36,
   "metadata": {},
   "outputs": [],
   "source": [
    "from langchain import PromptTemplate, LLMChain\n",
    "from openai import OpenAI"
   ]
  },
  {
   "cell_type": "code",
   "execution_count": 37,
   "metadata": {},
   "outputs": [],
   "source": [
    "load_dotenv(find_dotenv())\n",
    "HUGGINGACEHUB_API_TOKEN = os.getenv('HUGGINGACEHUB_API_TOKEN')\n",
    "client = OpenAI(\n",
    "  api_key=os.environ['OPENAI_API_KEY']\n",
    ")"
   ]
  },
  {
   "cell_type": "code",
   "execution_count": 38,
   "metadata": {},
   "outputs": [],
   "source": [
    "#img2text\n",
    "def img2text(url):\n",
    "    image_to_text = pipeline(\"image-to-text\", model=\"Salesforce/blip-image-captioning-base\")\n",
    "\n",
    "    text = image_to_text(url)[0]['generated_text']\n",
    "\n",
    "    print(text)\n",
    "    return text"
   ]
  },
  {
   "cell_type": "code",
   "execution_count": 47,
   "metadata": {},
   "outputs": [],
   "source": [
    "#llm -  generate story\n",
    "def gen_story(scenario):\n",
    "    template = \"\"\"\n",
    "    You are a story teller;\n",
    "    You can generate a short story on a simple narration, that should be no more than 20 words;\n",
    "\n",
    "    Context: {scenario}\n",
    "    Story:\n",
    "    \"\"\".format(scenario=scenario)\n",
    "    #prompt = PromptTemplate(template=template, input_variables=[\"scenario\"])\n",
    "\n",
    "    #story_llm = LLMChain(llm=OpenAI(model_name=\"gpt-3.5-turbo\", temperature=1), prompt=prompt, verbose=True)\n",
    "\n",
    "    story = client.chat.completions.create(\n",
    "        engine=\"gpt-3.5-turbo\", \n",
    "        prompt=template,\n",
    "        max_tokens=150,\n",
    "        temperature=1.0\n",
    "    )\n",
    "    #story = story_llm.predict(scenario=scenario)\n",
    "\n",
    "    print(story)\n",
    "    return story"
   ]
  },
  {
   "cell_type": "code",
   "execution_count": 55,
   "metadata": {},
   "outputs": [],
   "source": [
    "def gen_story2(scenario):\n",
    "    # Define the scenario as a part of the template in the user message itself\n",
    "    user_prompt = f\"You are a story teller. Generate a short story based on this scenario, keeping it under 20 words: {scenario}\"\n",
    "\n",
    "    try:\n",
    "        response = client.chat.completions.create(\n",
    "            model=\"gpt-3.5-turbo\",\n",
    "            messages=[\n",
    "                {\"role\": \"system\", \"content\": \"You are a virtual storyteller assistant.\"},\n",
    "                {\"role\": \"user\", \"content\": user_prompt}\n",
    "            ],\n",
    "            max_tokens=150,\n",
    "            temperature=1.0\n",
    "        )\n",
    "        # Assuming the response format aligns with the structure of the completion API\n",
    "        story = response['choices'][0]['message']['content']\n",
    "        print(story)\n",
    "        return story\n",
    "    except Exception as e:\n",
    "        print(f\"An error occurred: {e}\")\n",
    "        return None\n"
   ]
  },
  {
   "cell_type": "code",
   "execution_count": 56,
   "metadata": {},
   "outputs": [
    {
     "name": "stderr",
     "output_type": "stream",
     "text": [
      "/Users/pooria/opt/anaconda3/envs/transformer/lib/python3.8/site-packages/transformers/generation/utils.py:1132: UserWarning: Using the model-agnostic default `max_length` (=20) to control the generation length. We recommend setting `max_new_tokens` to control the maximum length of the generation.\n",
      "  warnings.warn(\n"
     ]
    },
    {
     "name": "stdout",
     "output_type": "stream",
     "text": [
      "a dog riding a surfboard on a wave\n",
      "An error occurred: Error code: 429 - {'error': {'message': 'You exceeded your current quota, please check your plan and billing details. For more information on this error, read the docs: https://platform.openai.com/docs/guides/error-codes/api-errors.', 'type': 'insufficient_quota', 'param': None, 'code': 'insufficient_quota'}}\n"
     ]
    }
   ],
   "source": [
    "sc=img2text(\"photo.webp\")\n",
    "gen_story2(sc)"
   ]
  }
 ],
 "metadata": {
  "kernelspec": {
   "display_name": "transformer",
   "language": "python",
   "name": "python3"
  },
  "language_info": {
   "codemirror_mode": {
    "name": "ipython",
    "version": 3
   },
   "file_extension": ".py",
   "mimetype": "text/x-python",
   "name": "python",
   "nbconvert_exporter": "python",
   "pygments_lexer": "ipython3",
   "version": "3.8.19"
  },
  "orig_nbformat": 4,
  "vscode": {
   "interpreter": {
    "hash": "2251c95a5384293cf96eec725e40059bf9dbc546a4a300f41156f5c39f262e2c"
   }
  }
 },
 "nbformat": 4,
 "nbformat_minor": 2
}
